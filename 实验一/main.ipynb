{
 "cells": [
  {
   "cell_type": "code",
   "outputs": [],
   "source": [
    "import librosa\n",
    "import librosa.display\n",
    "import matplotlib.pyplot as plt\n",
    "import numpy as np\n",
    "from IPython.display import Audio, display"
   ],
   "metadata": {
    "collapsed": false
   },
   "id": "2550854b7ec9809a",
   "execution_count": null
  },
  {
   "cell_type": "code",
   "outputs": [],
   "source": [
    "# 读取音频文件\n",
    "filename = \"TruE.wav\"\n",
    "y, sr = librosa.load(filename)\n",
    "\n",
    "# 显示波形\n",
    "plt.figure(figsize=(14, 5))\n",
    "librosa.display.waveshow(y, sr=sr)\n",
    "plt.title('Waveform')\n",
    "plt.xlabel('Time (s)')\n",
    "plt.ylabel('Amplitude')\n",
    "plt.show()"
   ],
   "metadata": {
    "collapsed": false
   },
   "id": "7a6cc5a51c3e560c",
   "execution_count": null
  },
  {
   "cell_type": "code",
   "outputs": [],
   "source": [
    "# 计算并显示频谱图（STFT）\n",
    "D = librosa.amplitude_to_db(np.abs(librosa.stft(y)), ref=np.max)\n",
    "plt.figure(figsize=(14, 5))\n",
    "librosa.display.specshow(D, sr=sr, x_axis='time', y_axis='log')\n",
    "plt.colorbar(format='%+2.0f dB')\n",
    "plt.title('Spectrogram (STFT)')\n",
    "plt.show()"
   ],
   "metadata": {
    "collapsed": false
   },
   "id": "6465d7c838af2f4a",
   "execution_count": null
  },
  {
   "cell_type": "code",
   "outputs": [],
   "source": [
    "# 播放音频文件\n",
    "display(Audio(filename))"
   ],
   "metadata": {
    "collapsed": false
   },
   "id": "76320cc7a13c3f68",
   "execution_count": null
  }
 ],
 "metadata": {
  "kernelspec": {
   "display_name": "Python 3",
   "language": "python",
   "name": "python3"
  },
  "language_info": {
   "codemirror_mode": {
    "name": "ipython",
    "version": 2
   },
   "file_extension": ".py",
   "mimetype": "text/x-python",
   "name": "python",
   "nbconvert_exporter": "python",
   "pygments_lexer": "ipython2",
   "version": "2.7.6"
  }
 },
 "nbformat": 4,
 "nbformat_minor": 5
}
